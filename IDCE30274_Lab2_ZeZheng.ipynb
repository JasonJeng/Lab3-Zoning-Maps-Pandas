{
  "nbformat": 4,
  "nbformat_minor": 0,
  "metadata": {
    "colab": {
      "name": "IDCE30274_Lab2_ZeZheng.ipynb",
      "provenance": [],
      "authorship_tag": "ABX9TyPOoRCxfKeT43WpCVXyLT0q",
      "include_colab_link": true
    },
    "kernelspec": {
      "name": "python3",
      "display_name": "Python 3"
    },
    "language_info": {
      "name": "python"
    }
  },
  "cells": [
    {
      "cell_type": "markdown",
      "metadata": {
        "id": "view-in-github",
        "colab_type": "text"
      },
      "source": [
        "<a href=\"https://colab.research.google.com/github/JasonJeng/Lab3-Zoning-Maps-Pandas/blob/main/IDCE30274_Lab2_ZeZheng.ipynb\" target=\"_parent\"><img src=\"https://colab.research.google.com/assets/colab-badge.svg\" alt=\"Open In Colab\"/></a>"
      ]
    },
    {
      "cell_type": "markdown",
      "metadata": {
        "id": "XrcNM5I_KgZW"
      },
      "source": [
        "**Creating Zoning Maps Using Python & Pandas**\n",
        "\n",
        "Zexing Zheng\n",
        "\n",
        "05/06/2021\n",
        "\n",
        "Python 3\n",
        "\n"
      ]
    },
    {
      "cell_type": "code",
      "metadata": {
        "id": "6V-Xzm5tILFg"
      },
      "source": [
        "# Add gis packages to colab environment\n",
        "!pip install geopandas\n",
        "!apt-get install -y libspatialindex-dev\n",
        "!pip install rtree\n",
        "\n",
        "# Then import packages\n",
        "import pandas as pd  # provides interface for interacting with tabular data\n",
        "import geopandas as gpd  # combines the capabilities of pandas and shapely for geospatial operations\n",
        "from shapely.geometry import Point, Polygon, MultiPolygon  # for manipulating text data into geospatial shapes\n",
        "from shapely import wkt  # stands for \"well known text,\" allows for interchange across GIS programs\n",
        "import rtree  # supports geospatial join"
      ],
      "execution_count": null,
      "outputs": []
    },
    {
      "cell_type": "code",
      "metadata": {
        "colab": {
          "base_uri": "https://localhost:8080/"
        },
        "id": "8OHG8MaHIRc5",
        "outputId": "d515c1f5-9270-47d2-93ce-49c8c21255c6"
      },
      "source": [
        "from google.colab import drive\n",
        "drive.mount('/content/gdrive') # connects Colab to your Google Drive\n",
        "root_path = 'gdrive/My Drive/CLARK/IDCE30274/Lab3/' # set root path to folder where you uploaded the data"
      ],
      "execution_count": null,
      "outputs": [
        {
          "output_type": "stream",
          "text": [
            "Drive already mounted at /content/gdrive; to attempt to forcibly remount, call drive.mount(\"/content/gdrive\", force_remount=True).\n"
          ],
          "name": "stdout"
        }
      ]
    },
    {
      "cell_type": "code",
      "metadata": {
        "id": "Ec1ac-A7I5z4"
      },
      "source": [
        "# Read in PUDs file as a geodataframe and initialize coordinate reference system (CRS)\n",
        "puds = gpd.read_file(root_path+'input/Planned_Unit_Development_(PUDs).shp', crs = {'init' :'epsg:4326'})\n",
        "aff = pd.read_csv(root_path+'input/Affordable_Housing.csv')\n",
        "crosswalk = pd.read_csv(root_path+'input/zoning_crosswalk.csv')"
      ],
      "execution_count": null,
      "outputs": []
    },
    {
      "cell_type": "code",
      "metadata": {
        "colab": {
          "base_uri": "https://localhost:8080/",
          "height": 386
        },
        "id": "fQ01poR4N5ZV",
        "outputId": "353a5f4b-b0f5-4edd-e1d9-b5a96b3ca1a9"
      },
      "source": [
        "# Running this code grabs rows from the first 3 index places (4 rows total!)\n",
        "puds.sample(3)"
      ],
      "execution_count": null,
      "outputs": [
        {
          "output_type": "execute_result",
          "data": {
            "text/html": [
              "<div>\n",
              "<style scoped>\n",
              "    .dataframe tbody tr th:only-of-type {\n",
              "        vertical-align: middle;\n",
              "    }\n",
              "\n",
              "    .dataframe tbody tr th {\n",
              "        vertical-align: top;\n",
              "    }\n",
              "\n",
              "    .dataframe thead th {\n",
              "        text-align: right;\n",
              "    }\n",
              "</style>\n",
              "<table border=\"1\" class=\"dataframe\">\n",
              "  <thead>\n",
              "    <tr style=\"text-align: right;\">\n",
              "      <th></th>\n",
              "      <th>OBJECTID</th>\n",
              "      <th>PUD_NAME</th>\n",
              "      <th>PUD_WEB_UR</th>\n",
              "      <th>PUD_CHANGE</th>\n",
              "      <th>PUD_ZONING</th>\n",
              "      <th>PUD_STATUS</th>\n",
              "      <th>PUD_CASE_N</th>\n",
              "      <th>GLOBALID</th>\n",
              "      <th>WARD</th>\n",
              "      <th>SHAPEAREA</th>\n",
              "      <th>SHAPELEN</th>\n",
              "      <th>geometry</th>\n",
              "    </tr>\n",
              "  </thead>\n",
              "  <tbody>\n",
              "    <tr>\n",
              "      <th>153</th>\n",
              "      <td>187092</td>\n",
              "      <td>P.N. Hoffman Inc &amp; Riverside Baptist Church</td>\n",
              "      <td>https://app.dcoz.dc.gov/Content/Search/ViewCas...</td>\n",
              "      <td>DC Register 3/18/16</td>\n",
              "      <td>C-3-A</td>\n",
              "      <td>Final</td>\n",
              "      <td>15-05</td>\n",
              "      <td>{E3622F41-77BF-44B2-A960-A67CD94897F1}</td>\n",
              "      <td>Ward 6</td>\n",
              "      <td>0</td>\n",
              "      <td>0</td>\n",
              "      <td>POLYGON ((-77.02240 38.87870, -77.02187 38.879...</td>\n",
              "    </tr>\n",
              "    <tr>\n",
              "      <th>197</th>\n",
              "      <td>187054</td>\n",
              "      <td>TC/CSG St. Matthews LLC</td>\n",
              "      <td>https://app.dcoz.dc.gov/Content/Search/ViewCas...</td>\n",
              "      <td>Case # 11-13, Approved July 6th 2012</td>\n",
              "      <td>CR</td>\n",
              "      <td>Final</td>\n",
              "      <td>11-13A</td>\n",
              "      <td>{40F80E64-D54F-4CFD-BC53-DA7F7C9BC118}</td>\n",
              "      <td>Ward 6</td>\n",
              "      <td>0</td>\n",
              "      <td>0</td>\n",
              "      <td>POLYGON ((-77.01422 38.87580, -77.01481 38.875...</td>\n",
              "    </tr>\n",
              "    <tr>\n",
              "      <th>183</th>\n",
              "      <td>187122</td>\n",
              "      <td>George Washington University &amp; Boston Properties</td>\n",
              "      <td>https://app.dcoz.dc.gov/Content/Search/ViewCas...</td>\n",
              "      <td>Setdown 6/25/17, DC Register 7/27/18</td>\n",
              "      <td>MU-30</td>\n",
              "      <td>Final</td>\n",
              "      <td>06-11O/06-12O</td>\n",
              "      <td>{0EA2FBA6-E4F4-46ED-A05F-FD8914DAADC0}</td>\n",
              "      <td>Ward 2</td>\n",
              "      <td>0</td>\n",
              "      <td>0</td>\n",
              "      <td>POLYGON ((-77.04758 38.90145, -77.04758 38.901...</td>\n",
              "    </tr>\n",
              "  </tbody>\n",
              "</table>\n",
              "</div>"
            ],
            "text/plain": [
              "     OBJECTID  ...                                           geometry\n",
              "153    187092  ...  POLYGON ((-77.02240 38.87870, -77.02187 38.879...\n",
              "197    187054  ...  POLYGON ((-77.01422 38.87580, -77.01481 38.875...\n",
              "183    187122  ...  POLYGON ((-77.04758 38.90145, -77.04758 38.901...\n",
              "\n",
              "[3 rows x 12 columns]"
            ]
          },
          "metadata": {
            "tags": []
          },
          "execution_count": 32
        }
      ]
    },
    {
      "cell_type": "code",
      "metadata": {
        "colab": {
          "base_uri": "https://localhost:8080/"
        },
        "id": "7144QQZ_OuGO",
        "outputId": "f2ed7eaf-cb71-4b22-8750-7b68457b4ff4"
      },
      "source": [
        "aff.info()"
      ],
      "execution_count": null,
      "outputs": [
        {
          "output_type": "stream",
          "text": [
            "<class 'pandas.core.frame.DataFrame'>\n",
            "RangeIndex: 558 entries, 0 to 557\n",
            "Data columns (total 22 columns):\n",
            " #   Column                         Non-Null Count  Dtype  \n",
            "---  ------                         --------------  -----  \n",
            " 0   X                              558 non-null    float64\n",
            " 1   Y                              558 non-null    float64\n",
            " 2   OBJECTID                       558 non-null    int64  \n",
            " 3   MAR_WARD                       558 non-null    object \n",
            " 4   ADDRESS                        555 non-null    object \n",
            " 5   PROJECT_NAME                   558 non-null    object \n",
            " 6   STATUS_PUBLIC                  558 non-null    object \n",
            " 7   AGENCY_CALCULATED              558 non-null    object \n",
            " 8   TOTAL_AFFORDABLE_UNITS         558 non-null    int64  \n",
            " 9   LATITUDE                       555 non-null    float64\n",
            " 10  LONGITUDE                      555 non-null    float64\n",
            " 11  AFFORDABLE_UNITS_AT_0_30_AMI   558 non-null    int64  \n",
            " 12  AFFORDABLE_UNITS_AT_31_50_AMI  558 non-null    int64  \n",
            " 13  AFFORDABLE_UNITS_AT_51_60_AMI  558 non-null    int64  \n",
            " 14  AFFORDABLE_UNITS_AT_61_80_AMI  558 non-null    int64  \n",
            " 15  AFFORDABLE_UNITS_AT_81_AMI     558 non-null    int64  \n",
            " 16  CASE_ID                        97 non-null     object \n",
            " 17  ADDRESS_ID                     488 non-null    float64\n",
            " 18  XCOORD                         558 non-null    float64\n",
            " 19  YCOORD                         558 non-null    float64\n",
            " 20  FULLADDRESS                    487 non-null    object \n",
            " 21  GIS_LAST_MOD_DTTM              558 non-null    object \n",
            "dtypes: float64(7), int64(7), object(8)\n",
            "memory usage: 96.0+ KB\n"
          ],
          "name": "stdout"
        }
      ]
    },
    {
      "cell_type": "code",
      "metadata": {
        "colab": {
          "base_uri": "https://localhost:8080/"
        },
        "id": "0lBlTpi4O8U1",
        "outputId": "63854c46-d333-4a5e-d5e1-0d90b28204e3"
      },
      "source": [
        "# This gives you a summary of what is within the PUD .shp file\n",
        "puds.info()"
      ],
      "execution_count": null,
      "outputs": [
        {
          "output_type": "stream",
          "text": [
            "<class 'geopandas.geodataframe.GeoDataFrame'>\n",
            "RangeIndex: 302 entries, 0 to 301\n",
            "Data columns (total 12 columns):\n",
            " #   Column      Non-Null Count  Dtype   \n",
            "---  ------      --------------  -----   \n",
            " 0   OBJECTID    302 non-null    int64   \n",
            " 1   PUD_NAME    302 non-null    object  \n",
            " 2   PUD_WEB_UR  302 non-null    object  \n",
            " 3   PUD_CHANGE  300 non-null    object  \n",
            " 4   PUD_ZONING  302 non-null    object  \n",
            " 5   PUD_STATUS  302 non-null    object  \n",
            " 6   PUD_CASE_N  302 non-null    object  \n",
            " 7   GLOBALID    302 non-null    object  \n",
            " 8   WARD        301 non-null    object  \n",
            " 9   SHAPEAREA   302 non-null    int64   \n",
            " 10  SHAPELEN    302 non-null    int64   \n",
            " 11  geometry    302 non-null    geometry\n",
            "dtypes: geometry(1), int64(3), object(8)\n",
            "memory usage: 28.4+ KB\n"
          ],
          "name": "stdout"
        }
      ]
    },
    {
      "cell_type": "code",
      "metadata": {
        "colab": {
          "base_uri": "https://localhost:8080/"
        },
        "id": "DCn8L5UuPANL",
        "outputId": "8d1815a5-4d6e-4eb0-a847-ee6ae3860fac"
      },
      "source": [
        "# Create a geometry column in the affordable housing dataframe\n",
        "aff['geometry'] = aff.apply(lambda row: Point(row.X, row.Y), axis=1)\n",
        "aff = gpd.GeoDataFrame(aff, crs={'init' :'epsg:4326'})"
      ],
      "execution_count": null,
      "outputs": [
        {
          "output_type": "stream",
          "text": [
            "/usr/local/lib/python3.7/dist-packages/pyproj/crs/crs.py:53: FutureWarning: '+init=<authority>:<code>' syntax is deprecated. '<authority>:<code>' is the preferred initialization method. When making the change, be mindful of axis order changes: https://pyproj4.github.io/pyproj/stable/gotchas.html#axis-order-changes-in-proj-6\n",
            "  return _prepare_from_string(\" \".join(pjargs))\n"
          ],
          "name": "stderr"
        }
      ]
    },
    {
      "cell_type": "code",
      "metadata": {
        "id": "5bwHY808PxyG"
      },
      "source": [
        "aff.sample(1) #sampling to the first index... or column headers and one row."
      ],
      "execution_count": null,
      "outputs": []
    },
    {
      "cell_type": "code",
      "metadata": {
        "colab": {
          "base_uri": "https://localhost:8080/"
        },
        "id": "8Ex9VdaRQeEM",
        "outputId": "c618a870-0537-4f4d-f2f6-7686bef84a6c"
      },
      "source": [
        "# Use geospatial join to identify which PUDs include affordable housing projects\n",
        "puds_aff = gpd.sjoin(puds, aff, op='intersects', how='left')"
      ],
      "execution_count": null,
      "outputs": [
        {
          "output_type": "stream",
          "text": [
            "/usr/local/lib/python3.7/dist-packages/ipykernel_launcher.py:2: UserWarning: CRS mismatch between the CRS of left geometries and the CRS of right geometries.\n",
            "Use `to_crs()` to reproject one of the input geometries to match the CRS of the other.\n",
            "\n",
            "Left CRS: EPSG:4326\n",
            "Right CRS: +init=epsg:4326 +type=crs\n",
            "\n",
            "  \n"
          ],
          "name": "stderr"
        }
      ]
    },
    {
      "cell_type": "code",
      "metadata": {
        "id": "hQ8Owa3TSrv5"
      },
      "source": [
        "# Check our Merge - incremental development, we're checking as we go!\n",
        "puds_aff.info()"
      ],
      "execution_count": null,
      "outputs": []
    },
    {
      "cell_type": "code",
      "metadata": {
        "id": "HH1V91UISzZF"
      },
      "source": [
        "# Merge dataframe with zoning categories crosswalk\n",
        "puds_info = puds_aff.merge(crosswalk[['Zone_Cat']], how='left', left_on='PUD_ZONING', right_on=crosswalk['Zone'])"
      ],
      "execution_count": null,
      "outputs": []
    },
    {
      "cell_type": "code",
      "metadata": {
        "colab": {
          "base_uri": "https://localhost:8080/"
        },
        "id": "trOnA52ZS2y5",
        "outputId": "86ceefef-cff5-4ef1-8f65-2a7c3bdfa1dc"
      },
      "source": [
        "# Quick count using print statements to show us how many PUDs there are total, and how many offer affordable housing.\n",
        "\n",
        "print(f\"Total count of PUDs: {puds_info.shape[0]}\")\n",
        "print(f\"Count PUDs offering Affordable Housing: {puds_info.loc[~puds_info.PROJECT_NAME.isna()].shape[0]}\")"
      ],
      "execution_count": null,
      "outputs": [
        {
          "output_type": "stream",
          "text": [
            "Total count of PUDs: 310\n",
            "Count PUDs offering Affordable Housing: 83\n"
          ],
          "name": "stdout"
        }
      ]
    },
    {
      "cell_type": "code",
      "metadata": {
        "colab": {
          "base_uri": "https://localhost:8080/",
          "height": 483
        },
        "id": "C-u9n9vlS5us",
        "outputId": "29a23582-044c-4ce1-a91e-e082edea81f0"
      },
      "source": [
        "# Create a map of PUDs by Zoning Category\n",
        "puds_info.plot(column='Zone_Cat', legend=True, figsize=(16,8));"
      ],
      "execution_count": null,
      "outputs": [
        {
          "output_type": "display_data",
          "data": {
            "image/png": "[encoded data removed]",
            "text/plain": [
              "<Figure size 1152x576 with 1 Axes>"
            ]
          },
          "metadata": {
            "tags": [],
            "needs_background": "light"
          }
        }
      ]
    },
    {
      "cell_type": "code",
      "metadata": {
        "colab": {
          "base_uri": "https://localhost:8080/",
          "height": 518
        },
        "id": "qa7BiBrVULvs",
        "outputId": "4820e8c6-eb33-46ed-cd59-27c885de2b56"
      },
      "source": [
        "# Create a map of just the PUDs that provide Affordable Housing\n",
        "puds_info[puds_info['TOTAL_AFFORDABLE_UNITS']>0].plot(column='TOTAL_AFFORDABLE_UNITS', color='grey', figsize=(16,8));"
      ],
      "execution_count": null,
      "outputs": [
        {
          "output_type": "stream",
          "text": [
            "/usr/local/lib/python3.7/dist-packages/geopandas/plotting.py:642: UserWarning: Only specify one of 'column' or 'color'. Using 'color'.\n",
            "  \"Only specify one of 'column' or 'color'. Using 'color'.\", UserWarning\n"
          ],
          "name": "stderr"
        },
        {
          "output_type": "display_data",
          "data": {
            "image/png": "[encoded data removed]",
            "text/plain": [
              "<Figure size 1152x576 with 1 Axes>"
            ]
          },
          "metadata": {
            "tags": [],
            "needs_background": "light"
          }
        }
      ]
    },
    {
      "cell_type": "code",
      "metadata": {
        "colab": {
          "base_uri": "https://localhost:8080/"
        },
        "id": "mztM6xy0UTHB",
        "outputId": "da5b7a8d-eab8-42cf-f5a8-72cffa5be1cc"
      },
      "source": [
        "# Export geodataframe as shapefile within Colab environment\n",
        "puds_info.to_file('puds_info.shp')\n",
        "\n",
        "# Copy shapefile components from Colab environment to Google Drive using bash script\n",
        "!cp puds_info.cpg 'gdrive/My Drive/CLARK/IDCE30274/Lab3/output'\n",
        "!cp puds_info.dbf 'gdrive/My Drive/CLARK/IDCE30274/Lab3/output'\n",
        "!cp puds_info.prj 'gdrive/My Drive/CLARK/IDCE30274/Lab3/output'\n",
        "!cp puds_info.shp 'gdrive/My Drive/CLARK/IDCE30274/Lab3/output'\n",
        "!cp puds_info.shx 'gdrive/My Drive/CLARK/IDCE30274/Lab3/output'"
      ],
      "execution_count": null,
      "outputs": [
        {
          "output_type": "stream",
          "text": [
            "/usr/local/lib/python3.7/dist-packages/ipykernel_launcher.py:2: UserWarning: Column names longer than 10 characters will be truncated when saved to ESRI Shapefile.\n",
            "  \n"
          ],
          "name": "stderr"
        }
      ]
    }
  ]
}